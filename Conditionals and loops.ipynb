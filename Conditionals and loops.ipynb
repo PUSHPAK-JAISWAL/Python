{
 "cells": [
  {
   "cell_type": "code",
   "execution_count": 2,
   "metadata": {},
   "outputs": [
    {
     "name": "stdout",
     "output_type": "stream",
     "text": [
      "The number is negative\n"
     ]
    }
   ],
   "source": [
    "#Take integer input and tell if it is positive and negative\n",
    "number = int(input(\"Enter a number : \"))\n",
    "\n",
    "if number >=0 :\n",
    "    print(\"The number is positive\")\n",
    "else :\n",
    "    print(\"The number is negative\")"
   ]
  },
  {
   "cell_type": "code",
   "execution_count": 5,
   "metadata": {},
   "outputs": [
    {
     "name": "stdout",
     "output_type": "stream",
     "text": [
      "The number is an Even number\n"
     ]
    }
   ],
   "source": [
    "#Take a positive integer input and tell if it is even or odd\n",
    "number = int(input(\"Enter a number : \"))\n",
    "\n",
    "if number % 2 ==0 :\n",
    "    print(\"The number is an Even number\")\n",
    "else : \n",
    "    print(\"The number is an Odd number \") "
   ]
  },
  {
   "cell_type": "code",
   "execution_count": 7,
   "metadata": {},
   "outputs": [
    {
     "name": "stdout",
     "output_type": "stream",
     "text": [
      "Profit :  10.0\n"
     ]
    }
   ],
   "source": [
    "#If cost price and selling price of an item is input through the keyboard, write a program to determine whether the seller has profit or incurred loss or no profit no loss . Also determine how much profit he  made or loss he incurred\n",
    "cp = float(input(\"Enter the Cost price : \"))\n",
    "\n",
    "sp = float(input(\"Enter the selling price : \"))\n",
    "\n",
    "if cp>sp :\n",
    "    print(\"Loss : \",cp-sp)\n",
    "elif cp<sp :\n",
    "    print(\"Profit : \",sp-cp)\n",
    "else :\n",
    "    print(\"No Profit No Loss\") "
   ]
  },
  {
   "cell_type": "code",
   "execution_count": 8,
   "metadata": {},
   "outputs": [
    {
     "name": "stdout",
     "output_type": "stream",
     "text": [
      "Very Good\n"
     ]
    }
   ],
   "source": [
    "# Take input percentage of a student and print the Grade according to marks :\n",
    "# 81 to 100 : Very Good\n",
    "# 61 to 80 : Good\n",
    "# 41 to 60 : Average\n",
    "# <=40 : Fail\n",
    "\n",
    "percentage = float(input(\"Enter Percentage : \"))\n",
    "\n",
    "if  percentage>=81 and percentage <=100 :\n",
    "    print(\"Very Good\") \n",
    "elif percentage>=61 and percentage<=80 :\n",
    "    print(\"Good\")\n",
    "elif percentage>=41 and percentage<=60 :\n",
    "    print(\"Average\")\n",
    "else :\n",
    "    print(\"Fail\")"
   ]
  },
  {
   "cell_type": "code",
   "execution_count": 9,
   "metadata": {},
   "outputs": [
    {
     "name": "stdout",
     "output_type": "stream",
     "text": [
      "Fail in 1 Subject \n"
     ]
    }
   ],
   "source": [
    "#Multiple condition program with and and or\n",
    "eng_marks = int(input(\"Enter marks in english : \"))\n",
    "math_marks = int(input(\"Enter marks in maths : \"))\n",
    "\n",
    "if eng_marks>=40 and math_marks>=40 :\n",
    "    print(\"Pass\")\n",
    "elif eng_marks>=40 or math_marks>=40 :\n",
    "    print(\"Fail in 1 Subject \")\n",
    "else :\n",
    "    print(\"Fail\") "
   ]
  },
  {
   "cell_type": "code",
   "execution_count": 10,
   "metadata": {},
   "outputs": [
    {
     "name": "stdout",
     "output_type": "stream",
     "text": [
      "This is a 4 digit number \n"
     ]
    }
   ],
   "source": [
    "#Take a positive integer input and tell if it is a four digit number or not\n",
    "number = int(input(\"Enter a number \")) \n",
    "\n",
    "if number>=1000 and number <=9999 :\n",
    "    print(\"This is a 4 digit number \")\n",
    "else :\n",
    "    print(\"This is not a 4 digit number \") "
   ]
  },
  {
   "cell_type": "code",
   "execution_count": 11,
   "metadata": {},
   "outputs": [
    {
     "name": "stdout",
     "output_type": "stream",
     "text": [
      "3  is the Greatest Number\n"
     ]
    }
   ],
   "source": [
    "#Take 3 positive integers input and print the greatest of them\n",
    "number1 = int(input(\"Enter Number 1 : \"))\n",
    "number2 = int(input(\"Enter Number 2 : \"))\n",
    "number3 = int(input(\"Enter Number 3 : \"))\n",
    "\n",
    "if number1>number2 and number1>number3 :\n",
    "    print(number1,\" is the Greatest Number\")\n",
    "elif number2>number1 and number2>number3 :\n",
    "    print(number2,\" is the Greatest Number\")\n",
    "elif number3>number2 and number3>number1 :\n",
    "    print(number3,\" is the Greatest Number\")\n",
    "else :\n",
    "    print(\"None is the Greatest Number \")"
   ]
  },
  {
   "cell_type": "code",
   "execution_count": 13,
   "metadata": {},
   "outputs": [
    {
     "name": "stdout",
     "output_type": "stream",
     "text": [
      "3  is the Greatest Number \n"
     ]
    }
   ],
   "source": [
    "#Take 3 positive integers input and print the greatest of them\n",
    "#Method 2\n",
    "\n",
    "number1 = int(input(\"Enter Number 1 : \"))\n",
    "number2 = int(input(\"Enter Number 2 : \"))\n",
    "number3 = int(input(\"Enter Number 3 : \"))\n",
    "\n",
    "greatest = number1\n",
    "\n",
    "if greatest<number2 : \n",
    "    greatest = number2\n",
    "if greatest<number3 :\n",
    "    greatest = number3\n",
    "\n",
    "print(greatest,\" is the Greatest Number \")\n"
   ]
  },
  {
   "cell_type": "code",
   "execution_count": 2,
   "metadata": {},
   "outputs": [
    {
     "name": "stdout",
     "output_type": "stream",
     "text": [
      "2  is the greatest Number \n"
     ]
    }
   ],
   "source": [
    "#Take 3 positive integers input and print the greatest of them\n",
    "#Method 3\n",
    "\n",
    "number1 = int(input(\"Enter Number 1 : \"))\n",
    "number2 = int(input(\"Enter Number 2 : \"))\n",
    "number3 = int(input(\"Enter Number 3 : \"))\n",
    "\n",
    "#using nested if else statment\n",
    "\n",
    "if number1> number2 :\n",
    "    if number1>number3 :\n",
    "        print(number1,\" is the greatest Number \")\n",
    "    else :\n",
    "        print(number3,\" is the greatest Number \")\n",
    "else :\n",
    "    if number2 > number3 :\n",
    "        print(number2,\" is the greatest Number \")\n",
    "    else :\n",
    "        print(number3,\" is the greatest Number \") "
   ]
  },
  {
   "cell_type": "code",
   "execution_count": 3,
   "metadata": {},
   "outputs": [
    {
     "name": "stdout",
     "output_type": "stream",
     "text": [
      "True\n"
     ]
    }
   ],
   "source": [
    "#Take positive integer input and tell if it is divisible by 5 or 3 but not divisible by 15\n",
    "\n",
    "number = int(input(\"Enter a Number : \"))\n",
    "\n",
    "if (number%5==0 or number%3==0 ) and number%15 !=0 :\n",
    "    print(\"True\") \n",
    "else :\n",
    "    print(\"False\") "
   ]
  },
  {
   "cell_type": "code",
   "execution_count": 5,
   "metadata": {},
   "outputs": [
    {
     "name": "stdout",
     "output_type": "stream",
     "text": [
      "Quotient :  1.9090909090909092\n"
     ]
    }
   ],
   "source": [
    "#Calculator using match Statement \n",
    "\n",
    "number1 = int(input(\"Enter number1 : \")) \n",
    "number2 = int(input(\"Enter number2 : \"))\n",
    "\n",
    "operator = input(\"Enter operator : \")\n",
    "\n",
    "match operator:\n",
    "    case \"+\" :\n",
    "        print(\"Sum : \",number1+number2)\n",
    "    case \"-\" :\n",
    "        print(\"Difference : \", number1-number2)\n",
    "    case \"*\" :\n",
    "        print(\"Product : \",number1*number2)\n",
    "    case \"/\" :\n",
    "        print(\"Division : \",number1/number2)\n",
    "    case _ :\n",
    "        print(\"Enter a valid Operator\")\n"
   ]
  },
  {
   "cell_type": "code",
   "execution_count": 6,
   "metadata": {},
   "outputs": [
    {
     "name": "stdout",
     "output_type": "stream",
     "text": [
      "Odd\n"
     ]
    }
   ],
   "source": [
    "# Write a program to check if number is odd or even using ternary operator\n",
    "\n",
    "number = int(input(\"Enter a Number : \"))\n",
    "\n",
    "output = \"Even\" if number %2 ==0 else \"Odd\"\n",
    "\n",
    "print(output) "
   ]
  },
  {
   "cell_type": "code",
   "execution_count": 9,
   "metadata": {},
   "outputs": [
    {
     "name": "stdout",
     "output_type": "stream",
     "text": [
      "1 Hello World ! \n",
      "2 Hello World ! \n",
      "3 Hello World ! \n",
      "4 Hello World ! \n",
      "5 Hello World ! \n",
      "6 Hello World ! \n",
      "7 Hello World ! \n",
      "8 Hello World ! \n",
      "9 Hello World ! \n",
      "10 Hello World ! \n"
     ]
    }
   ],
   "source": [
    "#For Loop Syntax trail\n",
    "\n",
    "for i in range(1,11) :\n",
    "    print(i,\"Hello World ! \") "
   ]
  },
  {
   "cell_type": "code",
   "execution_count": 10,
   "metadata": {},
   "outputs": [
    {
     "name": "stdout",
     "output_type": "stream",
     "text": [
      "10\n",
      "20\n",
      "30\n",
      "40\n",
      "50\n",
      "60\n"
     ]
    }
   ],
   "source": [
    "#Print elements of list using for loop\n",
    "\n",
    "list = [10,20,30,40,50,60]\n",
    "\n",
    "for i in list :\n",
    "    print(i)"
   ]
  },
  {
   "cell_type": "code",
   "execution_count": 11,
   "metadata": {},
   "outputs": [
    {
     "name": "stdout",
     "output_type": "stream",
     "text": [
      "Apple\n",
      "Banana\n",
      "Kiwi\n"
     ]
    }
   ],
   "source": [
    "#print elements of list using for loop\n",
    "fruits = [\"Apple\",\"Banana\",\"Kiwi\"]\n",
    "\n",
    "for i in fruits :\n",
    "    print(i) "
   ]
  },
  {
   "cell_type": "code",
   "execution_count": 12,
   "metadata": {},
   "outputs": [
    {
     "name": "stdout",
     "output_type": "stream",
     "text": [
      "2\n",
      "4\n",
      "6\n",
      "8\n",
      "10\n",
      "12\n",
      "14\n",
      "16\n",
      "18\n",
      "20\n",
      "22\n",
      "24\n",
      "26\n",
      "28\n",
      "30\n",
      "32\n",
      "34\n",
      "36\n",
      "38\n",
      "40\n",
      "42\n",
      "44\n",
      "46\n",
      "48\n",
      "50\n",
      "52\n",
      "54\n",
      "56\n",
      "58\n",
      "60\n",
      "62\n",
      "64\n",
      "66\n",
      "68\n",
      "70\n",
      "72\n",
      "74\n",
      "76\n",
      "78\n",
      "80\n",
      "82\n",
      "84\n",
      "86\n",
      "88\n",
      "90\n",
      "92\n",
      "94\n",
      "96\n",
      "98\n",
      "100\n"
     ]
    }
   ],
   "source": [
    "#print even numbers from 1 to 100 using for loop\n",
    "\n",
    "for i in range (1,101) :\n",
    "    if i%2==0 :\n",
    "        print(i)"
   ]
  },
  {
   "cell_type": "code",
   "execution_count": 13,
   "metadata": {},
   "outputs": [
    {
     "name": "stdout",
     "output_type": "stream",
     "text": [
      "0\n",
      "2\n",
      "4\n",
      "6\n",
      "8\n",
      "10\n",
      "12\n",
      "14\n",
      "16\n",
      "18\n",
      "20\n",
      "22\n",
      "24\n",
      "26\n",
      "28\n",
      "30\n",
      "32\n",
      "34\n",
      "36\n",
      "38\n",
      "40\n",
      "42\n",
      "44\n",
      "46\n",
      "48\n",
      "50\n",
      "52\n",
      "54\n",
      "56\n",
      "58\n",
      "60\n",
      "62\n",
      "64\n",
      "66\n",
      "68\n",
      "70\n",
      "72\n",
      "74\n",
      "76\n",
      "78\n",
      "80\n",
      "82\n",
      "84\n",
      "86\n",
      "88\n",
      "90\n",
      "92\n",
      "94\n",
      "96\n",
      "98\n",
      "100\n"
     ]
    }
   ],
   "source": [
    "#print even number till 100\n",
    "#method 2\n",
    "\n",
    "for i in range(0,101,2) :\n",
    "    print(i) "
   ]
  },
  {
   "cell_type": "code",
   "execution_count": 14,
   "metadata": {},
   "outputs": [
    {
     "name": "stdout",
     "output_type": "stream",
     "text": [
      "2\n",
      "4\n",
      "6\n",
      "8\n",
      "10\n",
      "12\n",
      "14\n",
      "16\n",
      "18\n",
      "20\n",
      "22\n",
      "24\n",
      "26\n",
      "28\n",
      "30\n",
      "32\n",
      "34\n",
      "36\n",
      "38\n",
      "40\n",
      "42\n",
      "44\n",
      "46\n",
      "48\n",
      "50\n",
      "52\n",
      "54\n",
      "56\n",
      "58\n",
      "60\n",
      "62\n",
      "64\n",
      "66\n",
      "68\n",
      "70\n",
      "72\n",
      "74\n",
      "76\n",
      "78\n",
      "80\n",
      "82\n",
      "84\n",
      "86\n",
      "88\n",
      "90\n",
      "92\n",
      "94\n",
      "96\n",
      "98\n",
      "100\n"
     ]
    }
   ],
   "source": [
    "#print even numbers from 1 to 100 using while loop\n",
    "\n",
    "i =2\n",
    "while i<=100 :\n",
    "    print(i)\n",
    "    i +=2"
   ]
  }
 ],
 "metadata": {
  "kernelspec": {
   "display_name": "Python 3",
   "language": "python",
   "name": "python3"
  },
  "language_info": {
   "codemirror_mode": {
    "name": "ipython",
    "version": 3
   },
   "file_extension": ".py",
   "mimetype": "text/x-python",
   "name": "python",
   "nbconvert_exporter": "python",
   "pygments_lexer": "ipython3",
   "version": "3.12.4"
  }
 },
 "nbformat": 4,
 "nbformat_minor": 2
}
