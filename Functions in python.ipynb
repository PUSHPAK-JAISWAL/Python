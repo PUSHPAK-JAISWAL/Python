{
 "cells": [
  {
   "cell_type": "code",
   "execution_count": 2,
   "metadata": {},
   "outputs": [
    {
     "name": "stdout",
     "output_type": "stream",
     "text": [
      "15\n"
     ]
    }
   ],
   "source": [
    "n = int(input(\"Enter n: \"))\n",
    "\n",
    "sum = 0\n",
    "\n",
    "for i in range (1,n+1) :\n",
    "    sum +=i\n",
    "print(sum)"
   ]
  },
  {
   "cell_type": "code",
   "execution_count": 4,
   "metadata": {},
   "outputs": [],
   "source": [
    "# Types of function\n",
    "#     Built-in\n",
    "#     User Defined"
   ]
  },
  {
   "cell_type": "code",
   "execution_count": 6,
   "metadata": {},
   "outputs": [
    {
     "name": "stdout",
     "output_type": "stream",
     "text": [
      "Hello world\n"
     ]
    }
   ],
   "source": [
    "#write a function that prints hello\n",
    "def Hello():\n",
    "    print(\"Hello world\")\n",
    "          \n",
    "Hello()"
   ]
  },
  {
   "cell_type": "code",
   "execution_count": 7,
   "metadata": {},
   "outputs": [
    {
     "name": "stdout",
     "output_type": "stream",
     "text": [
      "10\n"
     ]
    }
   ],
   "source": [
    "#default Arguments\n",
    "#write a function to add two numbers\n",
    "def add(a,b):\n",
    "    return a+b\n",
    "\n",
    "n1 = int(input(\"Enter a Number : \"))\n",
    "n2 = int(input(\"Enter a Number : \"))\n",
    "\n",
    "a=add(n1,n2)\n",
    "\n",
    "print(a)"
   ]
  },
  {
   "cell_type": "code",
   "execution_count": 8,
   "metadata": {},
   "outputs": [
    {
     "name": "stdout",
     "output_type": "stream",
     "text": [
      "98\n"
     ]
    }
   ],
   "source": [
    "#Add all number #Arbitary argument\n",
    "def addAllNumbers(*args):\n",
    "    sum =0\n",
    "    for i in args:\n",
    "        sum+=i\n",
    "    return sum\n",
    "\n",
    "print(addAllNumbers(1,2,3,4,5,5,6,6,66))"
   ]
  },
  {
   "cell_type": "code",
   "execution_count": 9,
   "metadata": {},
   "outputs": [
    {
     "name": "stdout",
     "output_type": "stream",
     "text": [
      "name pushpak\n",
      "num 2384\n"
     ]
    }
   ],
   "source": [
    "#Keyvalue Argument\n",
    "def studentInfo(**kwargs):\n",
    "    for x,y in kwargs.items():\n",
    "        print(x,y)\n",
    "\n",
    "studentInfo(name = \"pushpak\",num = 2384)"
   ]
  },
  {
   "cell_type": "code",
   "execution_count": 12,
   "metadata": {},
   "outputs": [
    {
     "name": "stdout",
     "output_type": "stream",
     "text": [
      "10\n"
     ]
    }
   ],
   "source": [
    "#Write a program to calculate sum from 1 to n\n",
    "def sum(n):\n",
    "    if n==0:\n",
    "        return 0\n",
    "    return n+sum(n-1)\n",
    "\n",
    "n = int(input(\"Enter a number \"))\n",
    "\n",
    "print(sum(n))"
   ]
  },
  {
   "cell_type": "code",
   "execution_count": 13,
   "metadata": {},
   "outputs": [
    {
     "name": "stdout",
     "output_type": "stream",
     "text": [
      "3\n"
     ]
    }
   ],
   "source": [
    "#nested function\n",
    "def outer_function() :\n",
    "    x =1\n",
    "\n",
    "    def inner_function() :\n",
    "        y=2\n",
    "        return x+y\n",
    "    \n",
    "    return inner_function()\n",
    "\n",
    "output = outer_function()\n",
    "print(output)"
   ]
  },
  {
   "cell_type": "code",
   "execution_count": 20,
   "metadata": {},
   "outputs": [
    {
     "name": "stdout",
     "output_type": "stream",
     "text": [
      "Inside function :  6\n",
      "Outside Function:  5\n"
     ]
    }
   ],
   "source": [
    "#Pass by Reference vs pass by value\n",
    "#Pass by Value\n",
    "\n",
    "def addOne(x):\n",
    "    x=x+1\n",
    "    print(\"Inside function : \",x)\n",
    "\n",
    "x=5\n",
    "addOne(x)\n",
    "print(\"Outside Function: \",x)"
   ]
  },
  {
   "cell_type": "code",
   "execution_count": 17,
   "metadata": {},
   "outputs": [
    {
     "name": "stdout",
     "output_type": "stream",
     "text": [
      "Inside function :  [1, 2, 3, 4]\n",
      "Outside function :  [1, 2, 3, 4]\n"
     ]
    }
   ],
   "source": [
    "#pass by reference\n",
    "def modifyList(lst) :\n",
    "    lst.append(4)\n",
    "    print(\"Inside function : \",lst)\n",
    "\n",
    "lst = [1,2,3]\n",
    "modifyList(lst)\n",
    "print(\"Outside function : \",lst)"
   ]
  },
  {
   "cell_type": "code",
   "execution_count": 21,
   "metadata": {},
   "outputs": [
    {
     "name": "stdout",
     "output_type": "stream",
     "text": [
      "120\n"
     ]
    }
   ],
   "source": [
    "#write a program to print factorial of x\n",
    "def factorial(n) :\n",
    "    if n ==0:\n",
    "        return 1\n",
    "    return n*factorial(n-1)\n",
    "\n",
    "n = int(input(\"Enter N : \"))\n",
    "\n",
    "print(factorial(n))\n",
    "\n"
   ]
  }
 ],
 "metadata": {
  "kernelspec": {
   "display_name": "Python 3",
   "language": "python",
   "name": "python3"
  },
  "language_info": {
   "codemirror_mode": {
    "name": "ipython",
    "version": 3
   },
   "file_extension": ".py",
   "mimetype": "text/x-python",
   "name": "python",
   "nbconvert_exporter": "python",
   "pygments_lexer": "ipython3",
   "version": "3.12.4"
  }
 },
 "nbformat": 4,
 "nbformat_minor": 2
}
