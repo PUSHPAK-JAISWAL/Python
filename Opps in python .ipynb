{
 "cells": [
  {
   "cell_type": "code",
   "execution_count": 3,
   "metadata": {},
   "outputs": [
    {
     "name": "stdout",
     "output_type": "stream",
     "text": [
      "Pushpak Jaiswal\n",
      "Rahul Garg\n"
     ]
    }
   ],
   "source": [
    "#classes in python and object\n",
    "\n",
    "class Student :\n",
    "\n",
    "    def set_name(self,name) :\n",
    "        self.name = name\n",
    "\n",
    "    def get_name(self):\n",
    "        return self.name\n",
    "\n",
    "student1 = Student()\n",
    "\n",
    "student1.set_name(\"Pushpak Jaiswal\")\n",
    "\n",
    "print(student1.get_name())\n",
    "\n",
    "student2 = Student()\n",
    "student2.set_name(\"Rahul Garg\")\n",
    "print(student2.get_name())"
   ]
  },
  {
   "cell_type": "code",
   "execution_count": 4,
   "metadata": {},
   "outputs": [
    {
     "name": "stdout",
     "output_type": "stream",
     "text": [
      "12 14\n"
     ]
    }
   ],
   "source": [
    "class Rectangle :\n",
    "\n",
    "    def set_dimension(self,width,height):\n",
    "        self.width = width\n",
    "        self.height = height\n",
    "\n",
    "    def area(self) :\n",
    "        return self.height*self.width\n",
    "    \n",
    "    def perimeter(self) :\n",
    "        return 2*(self.height+self.width)\n",
    "    \n",
    "Rectangle1 = Rectangle() \n",
    "Rectangle1.set_dimension(4,3)\n",
    "print(Rectangle1.area(),Rectangle1.perimeter())"
   ]
  },
  {
   "cell_type": "code",
   "execution_count": 7,
   "metadata": {},
   "outputs": [
    {
     "name": "stdout",
     "output_type": "stream",
     "text": [
      "12\n"
     ]
    }
   ],
   "source": [
    "#constructor\n",
    "class Rectangle :\n",
    "    def __init__(self,height,width):\n",
    "        self.height = height\n",
    "        self.width = width\n",
    "\n",
    "    def area(self) :\n",
    "        return self.height*self.width\n",
    "    \n",
    "Rectangle1 = Rectangle(4,3)\n",
    "\n",
    "print(Rectangle1.area())"
   ]
  },
  {
   "cell_type": "code",
   "execution_count": 8,
   "metadata": {},
   "outputs": [
    {
     "name": "stdout",
     "output_type": "stream",
     "text": [
      "This is the parent class\n",
      "This is a child class\n"
     ]
    }
   ],
   "source": [
    "#inheritance\n",
    "class Parent :\n",
    "    def __init__(self):\n",
    "        print(\"This is the parent class\")\n",
    "\n",
    "class Child(Parent) :\n",
    "    def __init__(self):\n",
    "        super().__init__()\n",
    "        print(\"This is a child class\")\n",
    "\n",
    "child1 = Child()\n",
    "\n"
   ]
  },
  {
   "cell_type": "code",
   "execution_count": 12,
   "metadata": {},
   "outputs": [
    {
     "name": "stdout",
     "output_type": "stream",
     "text": [
      "5000\n",
      "5500.0\n"
     ]
    }
   ],
   "source": [
    "#Inheritance example\n",
    "class Vehicle:\n",
    "    def __init__(self, seating_capacity):\n",
    "        self.seating_capacity = seating_capacity\n",
    "\n",
    "    def get_fare(self) :\n",
    "        return self.seating_capacity*100\n",
    "    \n",
    "class Bus(Vehicle):\n",
    "    \n",
    "    def __init__(self, seating_capacity):\n",
    "        super().__init__(seating_capacity)\n",
    "\n",
    "    def get_fare(self):\n",
    "        Vehicle_fare = super().get_fare()\n",
    "        maintanance_fare = 0.1*Vehicle_fare\n",
    "        total_fare = Vehicle_fare+maintanance_fare\n",
    "        return total_fare\n",
    "    \n",
    "Vehicle1 = Vehicle(50)\n",
    "print(Vehicle1.get_fare())\n",
    "\n",
    "Bus1 = Bus(50)\n",
    "print(Bus1.get_fare())"
   ]
  },
  {
   "cell_type": "code",
   "execution_count": 13,
   "metadata": {},
   "outputs": [
    {
     "name": "stdout",
     "output_type": "stream",
     "text": [
      "Barks\n",
      "Meow\n",
      "Moo\n"
     ]
    }
   ],
   "source": [
    "#polymorphism\n",
    "\n",
    "class Animal:\n",
    "    def speaks(self) :\n",
    "        print(\"Barks\")\n",
    "\n",
    "class Cat(Animal):\n",
    "    def speaks(self):\n",
    "        print(\"Meow\")\n",
    "\n",
    "class Cow(Animal):\n",
    "    def speaks(self):\n",
    "        print(\"Moo\")\n",
    "\n",
    "Animal1 = Animal()\n",
    "Cat1 = Cat()\n",
    "Cow1 = Cow()\n",
    "\n",
    "Animal1.speaks()\n",
    "Cat1.speaks()\n",
    "Cow1.speaks()"
   ]
  },
  {
   "cell_type": "code",
   "execution_count": null,
   "metadata": {},
   "outputs": [],
   "source": []
  }
 ],
 "metadata": {
  "kernelspec": {
   "display_name": "Python 3",
   "language": "python",
   "name": "python3"
  },
  "language_info": {
   "codemirror_mode": {
    "name": "ipython",
    "version": 3
   },
   "file_extension": ".py",
   "mimetype": "text/x-python",
   "name": "python",
   "nbconvert_exporter": "python",
   "pygments_lexer": "ipython3",
   "version": "3.12.4"
  }
 },
 "nbformat": 4,
 "nbformat_minor": 2
}
