{
 "cells": [
  {
   "cell_type": "code",
   "execution_count": 3,
   "metadata": {},
   "outputs": [
    {
     "name": "stdout",
     "output_type": "stream",
     "text": [
      "*****\n",
      "*****\n",
      "*****\n"
     ]
    }
   ],
   "source": [
    "# print\n",
    "# *****\n",
    "# *****\n",
    "# *****\n",
    "# *****\n",
    "\n",
    "number = int(input(\"Enter a number : \"))\n",
    "\n",
    "for i in range(0,number) :\n",
    "    print(\"*\"*5)"
   ]
  },
  {
   "cell_type": "code",
   "execution_count": 5,
   "metadata": {},
   "outputs": [
    {
     "name": "stdout",
     "output_type": "stream",
     "text": [
      "123\n",
      "123\n",
      "123\n"
     ]
    }
   ],
   "source": [
    "# print \n",
    "# for = 4\n",
    "# 1234\n",
    "# 1234\n",
    "# 1234\n",
    "# 1234\n",
    "\n",
    "number = int(input(\"Enter a Number : \"))\n",
    "\n",
    "for i in range(number) : #loop for rows\n",
    "    for j in range(1,number+1) : #loop for columns\n",
    "        print(j,end=\"\")\n",
    "    print()"
   ]
  },
  {
   "cell_type": "code",
   "execution_count": 7,
   "metadata": {},
   "outputs": [
    {
     "name": "stdout",
     "output_type": "stream",
     "text": [
      "1\n",
      "12\n",
      "123\n",
      "1234\n",
      "12345\n",
      "123456\n"
     ]
    }
   ],
   "source": [
    "# print\n",
    "# for n = 4\n",
    "# 1\n",
    "# 12\n",
    "# 123\n",
    "# 1234\n",
    "\n",
    "number = int(input(\"Enter a Number : \"))\n",
    "\n",
    "for i in range(1,number+1) :\n",
    "    for j in range(1,i+1) :\n",
    "        print(j,end=\"\")\n",
    "    print()"
   ]
  },
  {
   "cell_type": "code",
   "execution_count": 8,
   "metadata": {},
   "outputs": [
    {
     "name": "stdout",
     "output_type": "stream",
     "text": [
      "   1\n",
      "  123\n",
      " 12345\n",
      "1234567\n"
     ]
    }
   ],
   "source": [
    "# print\n",
    "#    1\n",
    "#   123\n",
    "#  12345\n",
    "# 1234567\n",
    "\n",
    "number = int(input(\"Enter Number : \"))\n",
    "\n",
    "for i in range(1,number+1) :\n",
    "    print(\" \"*(number-i),end=\"\")\n",
    "\n",
    "    for j in range(1,2*i) :\n",
    "        print(j,end=\"\")\n",
    "\n",
    "    print()"
   ]
  }
 ],
 "metadata": {
  "kernelspec": {
   "display_name": "Python 3",
   "language": "python",
   "name": "python3"
  },
  "language_info": {
   "codemirror_mode": {
    "name": "ipython",
    "version": 3
   },
   "file_extension": ".py",
   "mimetype": "text/x-python",
   "name": "python",
   "nbconvert_exporter": "python",
   "pygments_lexer": "ipython3",
   "version": "3.12.4"
  }
 },
 "nbformat": 4,
 "nbformat_minor": 2
}
