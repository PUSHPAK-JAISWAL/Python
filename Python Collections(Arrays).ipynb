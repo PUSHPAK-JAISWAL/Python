{
 "cells": [
  {
   "cell_type": "code",
   "execution_count": 1,
   "metadata": {},
   "outputs": [],
   "source": [
    "# List Items ->\n",
    "#     Indexed\n",
    "#     Ordered\n",
    "#     Mutable\n",
    "#     Duplicated allowed\n",
    "#     Any datatype\n",
    "#     Mix of different data types"
   ]
  },
  {
   "cell_type": "code",
   "execution_count": 3,
   "metadata": {},
   "outputs": [
    {
     "name": "stdout",
     "output_type": "stream",
     "text": [
      "['apple', 'mango', 'cherry']\n",
      "<class 'list'>\n",
      "3\n"
     ]
    }
   ],
   "source": [
    "fruits = [\"apple\",\"mango\",\"cherry\"]\n",
    "\n",
    "print(fruits) #prints the list\n",
    "\n",
    "print(type(fruits)) #prints the type of list thats list\n",
    "\n",
    "print(len(fruits)) #prints the length of list"
   ]
  },
  {
   "cell_type": "code",
   "execution_count": 10,
   "metadata": {},
   "outputs": [
    {
     "name": "stdout",
     "output_type": "stream",
     "text": [
      "False\n",
      "True\n"
     ]
    }
   ],
   "source": [
    "#checking item in the list\n",
    "fruits = [\"apple\",\"mango\",\"cherry\",\"kiwi\"]\n",
    "\n",
    "if \"banana\" in fruits :\n",
    "    print(\"True\")\n",
    "else :\n",
    "    print(\"False\")\n",
    "\n",
    "if \"kiwi\" in fruits :\n",
    "    print(\"True\")\n",
    "else :\n",
    "    print(\"False\")"
   ]
  },
  {
   "cell_type": "code",
   "execution_count": 11,
   "metadata": {},
   "outputs": [],
   "source": [
    "# Accesing items of a list ->\n",
    "#     Indexing\n",
    "#     Negative Indexing\n",
    "#     Range of Indexes\n",
    "#     Range of negative Indexes"
   ]
  },
  {
   "cell_type": "code",
   "execution_count": 15,
   "metadata": {},
   "outputs": [
    {
     "name": "stdout",
     "output_type": "stream",
     "text": [
      "mango\n",
      "mango\n",
      "['mango', 'cherry']\n",
      "['mango', 'cherry']\n"
     ]
    }
   ],
   "source": [
    "#indexing in list\n",
    "fruits = [\"apple\",\"mango\",\"cherry\",\"kiwi\"]\n",
    "\n",
    "print(fruits[1])\n",
    "\n",
    "print(fruits[-3])\n",
    "\n",
    "print(fruits[1:3])\n",
    "\n",
    "print(fruits[-3:-1])"
   ]
  },
  {
   "cell_type": "code",
   "execution_count": 16,
   "metadata": {},
   "outputs": [],
   "source": [
    "#Adding Elements to a list\n",
    "#   append()    Adds item to end of the list\n",
    "#   insert()    Adds item to a perticular index\n",
    "#   extend()    Adds list to another list of adds element of other element"
   ]
  },
  {
   "cell_type": "code",
   "execution_count": 17,
   "metadata": {},
   "outputs": [
    {
     "name": "stdout",
     "output_type": "stream",
     "text": [
      "['apple', 'mango', 'cherry', 'kiwi']\n",
      "['apple', 'mango', 'cherry', 'kiwi', 'Banana']\n",
      "['apple', 'mango', 'papaya', 'cherry', 'kiwi', 'Banana']\n",
      "['apple', 'mango', 'papaya', 'cherry', 'kiwi', 'Banana', 'pear', 'gauva']\n"
     ]
    }
   ],
   "source": [
    "#Adding Elements to a list\n",
    "\n",
    "fruits = [\"apple\",\"mango\",\"cherry\",\"kiwi\"]\n",
    "print(fruits)\n",
    "\n",
    "fruits.append(\"Banana\")\n",
    "print(fruits)\n",
    "\n",
    "fruits.insert(2,\"papaya\")\n",
    "print(fruits)\n",
    "\n",
    "more_fruits=[\"pear\",\"gauva\"]\n",
    "fruits.extend(more_fruits)\n",
    "print(fruits)\n"
   ]
  },
  {
   "cell_type": "code",
   "execution_count": 18,
   "metadata": {},
   "outputs": [],
   "source": [
    "#Removing elements from a list\n",
    "#   remove()    removes specified item from the list\n",
    "#   pop()       removes item from specified item or from last item"
   ]
  },
  {
   "cell_type": "code",
   "execution_count": 22,
   "metadata": {},
   "outputs": [
    {
     "name": "stdout",
     "output_type": "stream",
     "text": [
      "['apple', 'mango', 'papaya', 'cherry', 'kiwi', 'pear', 'gauva']\n",
      "['apple', 'mango', 'papaya', 'kiwi', 'pear', 'gauva']\n",
      "['apple', 'mango', 'papaya', 'kiwi', 'pear']\n"
     ]
    }
   ],
   "source": [
    "#Removing elements from a list\n",
    "fruits = [\"apple\", \"mango\", \"papaya\", \"cherry\", \"kiwi\", \"banana\", \"pear\", \"gauva\"]\n",
    "\n",
    "fruits.remove(\"banana\")\n",
    "print(fruits)\n",
    "\n",
    "fruits.pop(3)\n",
    "print(fruits)\n",
    "\n",
    "fruits.pop()\n",
    "print(fruits)"
   ]
  },
  {
   "cell_type": "code",
   "execution_count": 23,
   "metadata": {},
   "outputs": [],
   "source": [
    "#Changing item in a list\n",
    "#   At an index     \n",
    "#   In a range "
   ]
  },
  {
   "cell_type": "code",
   "execution_count": 28,
   "metadata": {},
   "outputs": [
    {
     "name": "stdout",
     "output_type": "stream",
     "text": [
      "['apple', 'Kiwi', 'papaya', 'cherry', 'kiwi', 'banana', 'pear', 'gauva']\n",
      "['apple', 'papaya', 'cherry', 'kiwi', 'banana', 'pear', 'gauva']\n"
     ]
    }
   ],
   "source": [
    "#Changing item in a list\n",
    "fruits = [\"apple\", \"mango\", \"papaya\", \"cherry\", \"kiwi\", \"banana\", \"pear\", \"gauva\"]\n",
    "\n",
    "fruits[1] = \"Kiwi\"\n",
    "print(fruits) \n",
    "\n",
    "fruits[1:3] = [\"papaya\"]\n",
    "print(fruits)"
   ]
  },
  {
   "cell_type": "code",
   "execution_count": 1,
   "metadata": {},
   "outputs": [],
   "source": [
    "#Sorting a list\n",
    "#   Ascending\n",
    "#   Descending"
   ]
  },
  {
   "cell_type": "code",
   "execution_count": 2,
   "metadata": {},
   "outputs": [
    {
     "name": "stdout",
     "output_type": "stream",
     "text": [
      "['apple', 'cherry', 'kiwi', 'mango']\n"
     ]
    }
   ],
   "source": [
    "#Sorting a list\n",
    "fruits = [\"apple\",\"mango\",\"cherry\",\"kiwi\"]\n",
    "\n",
    "fruits.sort()\n",
    "print(fruits)\n"
   ]
  },
  {
   "cell_type": "code",
   "execution_count": 3,
   "metadata": {},
   "outputs": [
    {
     "name": "stdout",
     "output_type": "stream",
     "text": [
      "['mango', 'kiwi', 'cherry', 'apple']\n"
     ]
    }
   ],
   "source": [
    "#Sorting a list in Desecending way\n",
    "\n",
    "fruits = [\"apple\",\"mango\",\"cherry\",\"kiwi\"]\n",
    "\n",
    "fruits.sort(reverse=True)\n",
    "\n",
    "print(fruits)"
   ]
  },
  {
   "cell_type": "code",
   "execution_count": 4,
   "metadata": {},
   "outputs": [
    {
     "name": "stdout",
     "output_type": "stream",
     "text": [
      "['mango', 'kiwi', 'cherry', 'apple']\n"
     ]
    }
   ],
   "source": [
    "#Way two of descending sorting a list\n",
    "fruits = [\"apple\",\"mango\",\"cherry\",\"kiwi\"]\n",
    "fruits.sort()\n",
    "\n",
    "fruits.reverse()\n",
    "print(fruits)"
   ]
  },
  {
   "cell_type": "code",
   "execution_count": 5,
   "metadata": {},
   "outputs": [
    {
     "name": "stdout",
     "output_type": "stream",
     "text": [
      "['apple', 'mango']\n"
     ]
    }
   ],
   "source": [
    "#List Comprehension\n",
    "#When we want to make a new list from items of a existing list according to a codition\n",
    "\n",
    "fruits = [\"apple\",\"mango\",\"cherry\",\"kiwi\"]\n",
    "\n",
    "new_fruits = [fruits for fruits in fruits if \"a\" in fruits]\n",
    "\n",
    "print(new_fruits)"
   ]
  },
  {
   "cell_type": "code",
   "execution_count": 6,
   "metadata": {},
   "outputs": [
    {
     "name": "stdout",
     "output_type": "stream",
     "text": [
      "['apple', 'mango', 'cherry', 'kiwi']\n"
     ]
    }
   ],
   "source": [
    "#Copy a list \n",
    "fruits = [\"apple\",\"mango\",\"cherry\",\"kiwi\"]\n",
    "new_fruits = fruits.copy()\n",
    "\n",
    "print(new_fruits)"
   ]
  },
  {
   "cell_type": "code",
   "execution_count": 7,
   "metadata": {},
   "outputs": [
    {
     "name": "stdout",
     "output_type": "stream",
     "text": [
      "['apple', 'mango', 'cherry', 'kiwi', 'apple', 'mango', 'cherry', 'kiwi']\n"
     ]
    }
   ],
   "source": [
    "#Concatinate a list\n",
    "\n",
    "fruits = [\"apple\",\"mango\",\"cherry\",\"kiwi\"]\n",
    "new_fruits = fruits.copy()\n",
    "\n",
    "new_fruits = fruits+new_fruits\n",
    "\n",
    "print(new_fruits)"
   ]
  },
  {
   "cell_type": "code",
   "execution_count": 8,
   "metadata": {},
   "outputs": [
    {
     "name": "stdout",
     "output_type": "stream",
     "text": [
      "['apple', 'mango', ['papaya', 'gauva'], 'cherry', 'kiwi']\n"
     ]
    }
   ],
   "source": [
    "#Nested list\n",
    "fruits = [\"apple\",\"mango\",\"cherry\",\"kiwi\"]\n",
    "\n",
    "fruits.insert(2,[\"papaya\",\"gauva\"])\n",
    "\n",
    "print(fruits)"
   ]
  },
  {
   "cell_type": "code",
   "execution_count": 9,
   "metadata": {},
   "outputs": [
    {
     "name": "stdout",
     "output_type": "stream",
     "text": [
      "papaya\n"
     ]
    }
   ],
   "source": [
    "#Accesing a nested list\n",
    "fruits = [\"apple\",\"mango\",\"cherry\",\"kiwi\"]\n",
    "\n",
    "fruits.insert(2,[\"papaya\",\"gauva\"])\n",
    "\n",
    "print(fruits[2][0])"
   ]
  },
  {
   "cell_type": "code",
   "execution_count": 65,
   "metadata": {},
   "outputs": [
    {
     "name": "stdout",
     "output_type": "stream",
     "text": [
      "[6, 5, 4, 3, 2, 1]\n",
      "[6, 5, 4, 3, 2, 1]\n"
     ]
    }
   ],
   "source": [
    "#Given a list in Python and provided the index of the elements write a program to swap the two elements in the list\n",
    "\n",
    "n = int(input(\"Enter size of list\"))\n",
    "\n",
    "list1 = []\n",
    "\n",
    "for i in range (n) :\n",
    "    num = int(input(\"Enter a Element\"))\n",
    "    list1.append(num)\n",
    "    \n",
    "print(list)\n",
    "\n",
    "index1 = int(input(\"Enter Index 1: \"))\n",
    "index2 = int(input(\"Enter Index 2: \"))\n",
    "\n",
    "temp = list1[index1]\n",
    "list1[index1] = list1[index2]\n",
    "list1[index2] = temp\n",
    "\n",
    "print(list)\n"
   ]
  },
  {
   "cell_type": "code",
   "execution_count": 11,
   "metadata": {},
   "outputs": [],
   "source": [
    "#Tuples\n",
    "#used to store multiple items in a variable.\n",
    "# colors = (\"Red\",\"Green\",\"Blue\")"
   ]
  },
  {
   "cell_type": "code",
   "execution_count": 12,
   "metadata": {},
   "outputs": [],
   "source": [
    "# Tuple Items\n",
    "#     Ordered\n",
    "#     Immutable\n",
    "#     Duplicated allowed\n",
    "#     Any datatype\n",
    "#     Mix of different data types"
   ]
  },
  {
   "cell_type": "code",
   "execution_count": 21,
   "metadata": {},
   "outputs": [
    {
     "name": "stdout",
     "output_type": "stream",
     "text": [
      "('red', 'yellow', 'green')\n",
      "('a', 'p', 'p', 'l', 'e')\n",
      "<class 'tuple'>\n",
      "<class 'tuple'>\n",
      "3\n",
      "yellow\n",
      "yellow\n",
      "('yellow', 'green')\n",
      "('yellow', 'green')\n"
     ]
    }
   ],
   "source": [
    "#Creating a tuple\n",
    "colours = (\"red\",\"yellow\",\"green\")\n",
    "\n",
    "#Creating a tuple with i item\n",
    "#fruits = (\"apple\",)\n",
    "fruits = tuple((\"apple\"))\n",
    "\n",
    "print(colours)\n",
    "print(fruits)\n",
    "\n",
    "#Checking type of tuple\n",
    "print(type(colours))\n",
    "print(type(fruits))\n",
    "\n",
    "#checking the length of tuple\n",
    "print(len(colours))\n",
    "\n",
    "#accessing items in tuple\n",
    "print(colours[1])\n",
    "print(colours[-2])\n",
    "\n",
    "#Range indexing\n",
    "print(colours[1:3])\n",
    "print(colours[-2:])"
   ]
  },
  {
   "cell_type": "code",
   "execution_count": 22,
   "metadata": {},
   "outputs": [
    {
     "name": "stdout",
     "output_type": "stream",
     "text": [
      "True\n"
     ]
    }
   ],
   "source": [
    "#Checking if a item is present in tuple\n",
    "colours = (\"red\",\"yellow\",\"green\")\n",
    "\n",
    "if \"green\" in colours :\n",
    "    print(True)"
   ]
  },
  {
   "cell_type": "code",
   "execution_count": 23,
   "metadata": {},
   "outputs": [
    {
     "name": "stdout",
     "output_type": "stream",
     "text": [
      "red\n",
      "yellow\n",
      "green\n"
     ]
    }
   ],
   "source": [
    "#Traverse the tuple\n",
    "colours = (\"red\",\"yellow\",\"green\")\n",
    "\n",
    "for i in colours :\n",
    "    print(i)"
   ]
  },
  {
   "cell_type": "code",
   "execution_count": 25,
   "metadata": {},
   "outputs": [
    {
     "name": "stdout",
     "output_type": "stream",
     "text": [
      "('red', 'yellow', 'green', 'black', 'while', 'orange')\n"
     ]
    }
   ],
   "source": [
    "#Concatenate 2 tuples\n",
    "colours = (\"red\",\"yellow\",\"green\")\n",
    "\n",
    "more_colours = (\"black\",\"while\",\"orange\")\n",
    "\n",
    "colours = colours + more_colours\n",
    "\n",
    "print(colours)"
   ]
  },
  {
   "cell_type": "code",
   "execution_count": 27,
   "metadata": {},
   "outputs": [
    {
     "name": "stdout",
     "output_type": "stream",
     "text": [
      "red\n",
      "yellow\n",
      "green\n"
     ]
    }
   ],
   "source": [
    "#Unpacking a tuple\n",
    "colours = (\"red\",\"yellow\",\"green\")\n",
    "\n",
    "colours1, colours2, colours3 = colours\n",
    "\n",
    "print(colours1)\n",
    "print(colours2)\n",
    "print(colours3)"
   ]
  },
  {
   "cell_type": "code",
   "execution_count": 29,
   "metadata": {},
   "outputs": [
    {
     "name": "stdout",
     "output_type": "stream",
     "text": [
      "(6, 5, 4, 3, 2, 1)\n"
     ]
    }
   ],
   "source": [
    "#Reverse a tuple\n",
    "\n",
    "input_tuple = (1,2,3,4,5,6)\n",
    "\n",
    "list1 = []\n",
    "\n",
    "for x in reversed(input_tuple) :\n",
    "    list1.append(x)\n",
    "\n",
    "output_tuple = tuple(list1)\n",
    "\n",
    "print(output_tuple)"
   ]
  },
  {
   "cell_type": "code",
   "execution_count": 30,
   "metadata": {},
   "outputs": [],
   "source": [
    "# #Set Items\n",
    "#     Unordered\n",
    "#     Immutable\n",
    "#     Unindexed\n",
    "#     Duplicates not allowed\n",
    "#     Any datatype\n",
    "#     Mix of different data type"
   ]
  },
  {
   "cell_type": "code",
   "execution_count": 55,
   "metadata": {},
   "outputs": [
    {
     "name": "stdout",
     "output_type": "stream",
     "text": [
      "{'pushpak', 'rahul', 'sahil'}\n",
      "3\n",
      "<class 'set'>\n",
      "pushpak\n",
      "rahul\n",
      "sahil\n",
      "True\n",
      "{'pushpak', 'saurav', 'rahul', 'sahil'}\n",
      "{'pushpak', 'sahil', 'saurav', 'riya', 'rahul', 'kia'}\n",
      "{'pushpak', 'sahil', 'saurav', 'rahul', 'kia'}\n",
      "{'pushpak', 'saurav', 'rahul', 'kia'}\n",
      "{'pushpak', 'saurav', 'rahul', 'kia'}\n",
      "{'a', 'b', 'c'} {'e', 'd', 'a', 'f'}\n",
      "{'e', 'a', 'b', 'c', 'f', 'd'}\n",
      "{'e', 'a', 'b', 'c', 'f', 'd'}\n",
      "{'a'}\n",
      "{'a', 'b', 'c'}\n"
     ]
    }
   ],
   "source": [
    "#Creating a set\n",
    "\n",
    "names = {\"pushpak\",\"sahil\",\"rahul\"}\n",
    "\n",
    "#print set\n",
    "print(names)\n",
    "\n",
    "#check length of set\n",
    "print(len(names))\n",
    "\n",
    "#check data type of set\n",
    "print(type(names))\n",
    "\n",
    "#accessing items of set\n",
    "for x in names :\n",
    "    print(x)\n",
    "\n",
    "#Check if an item exists in a set\n",
    "if \"rahul\" in names:\n",
    "    print(True)\n",
    "\n",
    "#add elements to the set\n",
    "names.add(\"saurav\")\n",
    "print(names)\n",
    "\n",
    "#add another sequence in a set\n",
    "names_list = [\"riya\",\"kia\"]\n",
    "names.update(names_list)\n",
    "\n",
    "print(names)\n",
    "\n",
    "#removing elements from a set\n",
    "names.remove(\"riya\")\n",
    "print(names)\n",
    "\n",
    "#discard() it will not throw error if the element is not present when removing\n",
    "names.discard(\"sahil\")\n",
    "print(names)\n",
    "names.discard(\"riya\")\n",
    "print(names)\n",
    "\n",
    "#joining 2 sets\n",
    "s1 = {'a','b','c'}\n",
    "s2 = {'d','e','f','a'}\n",
    "print(s1,s2)\n",
    "\n",
    "s3 = s1.union(s2)\n",
    "print(s3)\n",
    "\n",
    "#joining at the end with update()\n",
    "\n",
    "s1 = {'a','b','c'}\n",
    "s2 = {'d','e','f','a'}\n",
    "\n",
    "s1.update(s2)\n",
    "print(s1)\n",
    "\n",
    "#Keep only duplicates while joining\n",
    "s1 = {'a','b','c'}\n",
    "s2 = {'d','e','f','a'}\n",
    "\n",
    "s1.intersection_update(s2)\n",
    "print(s1)\n",
    "\n",
    "#keep all values except duplicates\n",
    "s1 = {'a','b','c'}\n",
    "s2 = {'d','e','f','a'}\n",
    "s1.symmetric_difference(s2)\n",
    "print(s1)"
   ]
  }
 ],
 "metadata": {
  "kernelspec": {
   "display_name": "Python 3",
   "language": "python",
   "name": "python3"
  },
  "language_info": {
   "codemirror_mode": {
    "name": "ipython",
    "version": 3
   },
   "file_extension": ".py",
   "mimetype": "text/x-python",
   "name": "python",
   "nbconvert_exporter": "python",
   "pygments_lexer": "ipython3",
   "version": "3.12.4"
  }
 },
 "nbformat": 4,
 "nbformat_minor": 2
}
