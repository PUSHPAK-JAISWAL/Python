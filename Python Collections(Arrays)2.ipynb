{
 "cells": [
  {
   "cell_type": "code",
   "execution_count": 1,
   "metadata": {},
   "outputs": [
    {
     "name": "stdout",
     "output_type": "stream",
     "text": [
      "[5]\n"
     ]
    }
   ],
   "source": [
    "#Give three arrays, we have to find common elements in three sorted lists using sets\n",
    "l1 = [1,5,5]\n",
    "l2 = [3,4,5,5,10]\n",
    "l3 = [5,5,10,20]\n",
    "\n",
    "s1 = set(l1)\n",
    "s2 = set(l2)\n",
    "s3 = set(l3)\n",
    "\n",
    "s1s2 = s1.intersection(s2)\n",
    "final_set = s1s2.intersection(s3)\n",
    "\n",
    "final_list = list(final_set)\n",
    "\n",
    "print(final_list)"
   ]
  },
  {
   "cell_type": "code",
   "execution_count": 2,
   "metadata": {},
   "outputs": [],
   "source": [
    "# Dictionary Items\n",
    "#     Ordered\n",
    "#     Changeable\n",
    "#     Unindexed\n",
    "#     Duplicates not allowed\n",
    "#     Any datatype"
   ]
  },
  {
   "cell_type": "code",
   "execution_count": 20,
   "metadata": {},
   "outputs": [
    {
     "name": "stdout",
     "output_type": "stream",
     "text": [
      "{'John': 83829, 'Ria': 2433, 'Joy': 123534}\n",
      "<class 'dict'>\n",
      "3\n",
      "123534\n",
      "123534\n",
      "dict_keys(['John', 'Ria', 'Joy'])\n",
      "2343\n",
      "{'John': 83829, 'Ria': 2433, 'Joy': 2343}\n",
      "{'John': 83829, 'Ria': 2433, 'Joy': 2343, 'kia': 23454}\n",
      "{'John': 83829, 'Ria': 2433, 'Joy': 2343, 'kia': 23454, 'pushpak': 38383}\n",
      "{'John': 83829, 'Ria': 2433, 'Joy': 2343, 'kia': 23454}\n",
      "{'John': 83829, 'Ria': 2433, 'Joy': 2343}\n",
      "John 83829\n",
      "Ria 2433\n",
      "Joy 2343\n"
     ]
    }
   ],
   "source": [
    "#creating a dictionary\n",
    "phones = {\n",
    "    \"John\" : 83829,\n",
    "    \"Ria\" : 2433,\n",
    "    \"Joy\" : 123534\n",
    "}\n",
    "\n",
    "#printing the dict\n",
    "print(phones)\n",
    "\n",
    "#checking type\n",
    "print(type(phones))\n",
    "\n",
    "#checking length\n",
    "print(len(phones))\n",
    "\n",
    "#accesing items of dict\n",
    "print(phones.get(\"Joy\"))\n",
    "print(phones[\"Joy\"])\n",
    "\n",
    "#printing all the keys\n",
    "print(phones.keys())\n",
    "\n",
    "#update value in dict\n",
    "phones[\"Joy\"] = 2343\n",
    "print(phones[\"Joy\"])\n",
    "\n",
    "print(phones)\n",
    "\n",
    "#add elements in dict\n",
    "phones[\"kia\"] = 23454\n",
    "print(phones)\n",
    "\n",
    "more_phone = {\n",
    "    \"pushpak\" : 38383\n",
    "}\n",
    "\n",
    "phones.update(more_phone)\n",
    "print(phones)\n",
    "\n",
    "#remove elements from a dictionary\n",
    "phones.pop(\"pushpak\")\n",
    "print(phones)\n",
    "\n",
    "#remove elements from a  dictionary using popitem() remove last item\n",
    "phones.popitem()\n",
    "print(phones)\n",
    "\n",
    "#print values of dict\n",
    "for x,y in phones.items():\n",
    "    print(x,y)\n",
    "\n"
   ]
  }
 ],
 "metadata": {
  "kernelspec": {
   "display_name": "Python 3",
   "language": "python",
   "name": "python3"
  },
  "language_info": {
   "codemirror_mode": {
    "name": "ipython",
    "version": 3
   },
   "file_extension": ".py",
   "mimetype": "text/x-python",
   "name": "python",
   "nbconvert_exporter": "python",
   "pygments_lexer": "ipython3",
   "version": "3.12.4"
  }
 },
 "nbformat": 4,
 "nbformat_minor": 2
}
