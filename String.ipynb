{
 "cells": [
  {
   "cell_type": "code",
   "execution_count": 3,
   "metadata": {},
   "outputs": [
    {
     "name": "stdout",
     "output_type": "stream",
     "text": [
      "Pushpak Jaiswal Akshay Kumar Lucifer Mishra\n",
      "<class 'str'> <class 'str'> <class 'str'>\n"
     ]
    }
   ],
   "source": [
    "name1 = 'Pushpak Jaiswal'\n",
    "\n",
    "name2 = \"Akshay Kumar\"\n",
    "\n",
    "name3 = '''Lucifer Mishra'''\n",
    "\n",
    "print(name1,name2,name3)\n",
    "\n",
    "print(type(name1),type(name2),type(name3))"
   ]
  },
  {
   "cell_type": "code",
   "execution_count": 7,
   "metadata": {},
   "outputs": [
    {
     "name": "stdout",
     "output_type": "stream",
     "text": [
      "8\n"
     ]
    }
   ],
   "source": [
    "# find()\n",
    "\n",
    "print(name1.find('J'))"
   ]
  },
  {
   "cell_type": "code",
   "execution_count": 12,
   "metadata": {},
   "outputs": [
    {
     "name": "stdout",
     "output_type": "stream",
     "text": [
      "Jaiswal\n",
      "Jaiswal\n"
     ]
    }
   ],
   "source": [
    "#slicing a string\n",
    "print(name1[8:])\n",
    "print(name1[-7:])"
   ]
  },
  {
   "cell_type": "code",
   "execution_count": 14,
   "metadata": {},
   "outputs": [
    {
     "name": "stdout",
     "output_type": "stream",
     "text": [
      "NEW YORK\n",
      "new york\n",
      "New york\n"
     ]
    }
   ],
   "source": [
    "#Modifing string\n",
    "str1 = \"new york\"\n",
    "str2 = str1.upper()\n",
    "\n",
    "print(str2)\n",
    "\n",
    "str3 = str2.lower()\n",
    "\n",
    "print(str3)\n",
    "\n",
    "str4 = str3.capitalize()\n",
    "print(str4)"
   ]
  },
  {
   "cell_type": "code",
   "execution_count": 15,
   "metadata": {},
   "outputs": [
    {
     "name": "stdout",
     "output_type": "stream",
     "text": [
      "hello world!\n"
     ]
    }
   ],
   "source": [
    "str1 = \"            hello world!\"\n",
    "print(str1.strip())"
   ]
  },
  {
   "cell_type": "code",
   "execution_count": null,
   "metadata": {},
   "outputs": [],
   "source": []
  }
 ],
 "metadata": {
  "kernelspec": {
   "display_name": "Python 3",
   "language": "python",
   "name": "python3"
  },
  "language_info": {
   "codemirror_mode": {
    "name": "ipython",
    "version": 3
   },
   "file_extension": ".py",
   "mimetype": "text/x-python",
   "name": "python",
   "nbconvert_exporter": "python",
   "pygments_lexer": "ipython3",
   "version": "3.12.4"
  }
 },
 "nbformat": 4,
 "nbformat_minor": 2
}
