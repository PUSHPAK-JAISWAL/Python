{
 "cells": [
  {
   "cell_type": "code",
   "execution_count": 2,
   "metadata": {},
   "outputs": [],
   "source": [
    "#cell below will show input in python\n",
    "name = input(\"Enter your name: \")"
   ]
  },
  {
   "cell_type": "code",
   "execution_count": 3,
   "metadata": {},
   "outputs": [
    {
     "name": "stdout",
     "output_type": "stream",
     "text": [
      "Pushpak Jaiswal\n"
     ]
    }
   ],
   "source": [
    "print(name)"
   ]
  },
  {
   "cell_type": "code",
   "execution_count": 2,
   "metadata": {},
   "outputs": [],
   "source": [
    "roll_no = input(\"Enter your Roll no: \")"
   ]
  },
  {
   "cell_type": "code",
   "execution_count": 3,
   "metadata": {},
   "outputs": [
    {
     "name": "stdout",
     "output_type": "stream",
     "text": [
      "65\n",
      "<class 'str'>\n"
     ]
    }
   ],
   "source": [
    "print(roll_no)\n",
    "print(type(roll_no))"
   ]
  },
  {
   "cell_type": "code",
   "execution_count": 7,
   "metadata": {},
   "outputs": [],
   "source": [
    "option = input(\"Enter true of false\")"
   ]
  },
  {
   "cell_type": "code",
   "execution_count": 8,
   "metadata": {},
   "outputs": [
    {
     "name": "stdout",
     "output_type": "stream",
     "text": [
      "True\n",
      "<class 'str'>\n"
     ]
    }
   ],
   "source": [
    "print(option)\n",
    "print(type(option))"
   ]
  },
  {
   "cell_type": "code",
   "execution_count": 4,
   "metadata": {},
   "outputs": [
    {
     "name": "stdout",
     "output_type": "stream",
     "text": [
      "Pushpak Jaiwal\n",
      "<class 'str'>\n",
      "65\n",
      "<class 'int'>\n"
     ]
    }
   ],
   "source": [
    "#Cells below will now add typecasting to the notebook\n",
    "\n",
    "name = input(\"Enter your name : \")\n",
    "print(name)\n",
    "print(type(name))\n",
    "\n",
    "age = int(input(\"Enter you age: \")) #this show typecasting\n",
    "print(age)\n",
    "print(type(age)) "
   ]
  },
  {
   "cell_type": "code",
   "execution_count": 5,
   "metadata": {},
   "outputs": [
    {
     "name": "stdout",
     "output_type": "stream",
     "text": [
      "Pushpak Jaiwal->65->True\n",
      "<class 'str'>-><class 'int'>-><class 'bool'>\n"
     ]
    }
   ],
   "source": [
    "name = input(\"Enter your name : \")\n",
    "\n",
    "roll_no = int(input(\"Enter your roll no.: \"))\n",
    "\n",
    "is_Student = bool(input(\"Enter True or False :\"))\n",
    "\n",
    "print(name,roll_no,is_Student,sep=\"->\")\n",
    "\n",
    "print(type(name),type(roll_no),type(is_Student),sep=\"->\")"
   ]
  },
  {
   "cell_type": "code",
   "execution_count": 6,
   "metadata": {},
   "outputs": [
    {
     "name": "stdout",
     "output_type": "stream",
     "text": [
      "14.0\n"
     ]
    }
   ],
   "source": [
    "#Program to Sum 2 numbers\n",
    "\n",
    "number1 = float(input(\"Enter a number1 : \"))\n",
    "number2 = float(input(\"Enter a number2 : \"))\n",
    "\n",
    "print(number1+number2)"
   ]
  },
  {
   "cell_type": "code",
   "execution_count": 7,
   "metadata": {},
   "outputs": [
    {
     "data": {
      "text/plain": [
       "'This is Arithmetic Operators in python'"
      ]
     },
     "execution_count": 7,
     "metadata": {},
     "output_type": "execute_result"
    }
   ],
   "source": [
    "# + Addition\n",
    "# = Substraction\n",
    "# * Multiplication\n",
    "# / Division\n",
    "# % Modulus\n",
    "# ** Exponential\n",
    "# // Floor Division\n",
    "\n",
    "'''This is Arithmetic Operators in python'''"
   ]
  },
  {
   "cell_type": "code",
   "execution_count": 9,
   "metadata": {},
   "outputs": [
    {
     "name": "stdout",
     "output_type": "stream",
     "text": [
      "Sum :  7\n",
      "Difference :  1\n",
      "Product :  12\n",
      "Division :  1.3333333333333333\n",
      "Division :  1\n",
      "Remainder :  1\n",
      "Exponentiation :  64\n"
     ]
    }
   ],
   "source": [
    "# Showing Arithmetic Operators in python\n",
    "\n",
    "#Addition\n",
    "print(\"Sum : \",4+3)\n",
    "\n",
    "#Substraction\n",
    "print(\"Difference : \",4-3)\n",
    "\n",
    "#Multiplication\n",
    "print(\"Product : \",4*3)\n",
    "\n",
    "#Division\n",
    "print(\"Division : \",4/3)\n",
    "\n",
    "#Floor Division\n",
    "print(\"Division : \",4//3)\n",
    "\n",
    "#Remainder\n",
    "print(\"Remainder : \",4%3)\n",
    "\n",
    "#Exponentiation\n",
    "print(\"Exponentiation : \",4**3) "
   ]
  },
  {
   "cell_type": "code",
   "execution_count": 11,
   "metadata": {},
   "outputs": [
    {
     "name": "stdout",
     "output_type": "stream",
     "text": [
      "5 5\n",
      "5 10\n",
      "5 5\n",
      "5 25\n",
      "5 5.0\n",
      "5 0.0\n",
      "5 0.0\n",
      "5 0.0\n"
     ]
    }
   ],
   "source": [
    "#Assignment Operators\n",
    "\n",
    "n1 = 5\n",
    "n2 = n1 # Assignment =\n",
    "print(n1,n2)\n",
    "\n",
    "n2 +=n1 \n",
    "print(n1,n2)\n",
    "\n",
    "n2 -=n1\n",
    "print(n1,n2)\n",
    "\n",
    "n2 *=n1\n",
    "print(n1,n2)\n",
    "\n",
    "n2 /=n1\n",
    "print(n1,n2)\n",
    "\n",
    "n2 %= n1\n",
    "print(n1,n2) \n",
    "\n",
    "n2 //= n1\n",
    "print(n1,n2) \n",
    "\n",
    "n2**=n1\n",
    "print(n1,n2)\n"
   ]
  },
  {
   "cell_type": "code",
   "execution_count": 12,
   "metadata": {},
   "outputs": [],
   "source": [
    "#Comparison Operators\n",
    "#   ==  Equal\n",
    "#   !=  Not Equal\n",
    "#   >   Greater than\n",
    "#   <   Less than\n",
    "#   >=  Greaters than or equal to\n",
    "#   <= Less than or equal to"
   ]
  },
  {
   "cell_type": "code",
   "execution_count": 13,
   "metadata": {},
   "outputs": [
    {
     "name": "stdout",
     "output_type": "stream",
     "text": [
      "True\n",
      "False\n",
      "False\n",
      "True\n",
      "True\n",
      "False\n"
     ]
    }
   ],
   "source": [
    "#Comparison Operators\n",
    "n1 =4\n",
    "n2 =3\n",
    "\n",
    "print(n1>n2)\n",
    "\n",
    "print(n1<n2)\n",
    "\n",
    "print(n1==n2)\n",
    "\n",
    "print(n1!=n2)\n",
    "\n",
    "print(n1>=n2)\n",
    "\n",
    "print(n1<=n2)"
   ]
  },
  {
   "cell_type": "code",
   "execution_count": 14,
   "metadata": {},
   "outputs": [],
   "source": [
    "#Logical Operators\n",
    "#   and     Returns True if both statements are true\n",
    "#   or      Returns True if one of the  Statements is true\n",
    "#   not     Reverse the result,returns False if the Result is true"
   ]
  },
  {
   "cell_type": "code",
   "execution_count": 15,
   "metadata": {},
   "outputs": [
    {
     "name": "stdout",
     "output_type": "stream",
     "text": [
      "exp1 and exp2 :  False\n",
      "exp1 or exp2 :  True\n",
      "Not exp1 :  False\n",
      "Not exp2 :  True\n"
     ]
    }
   ],
   "source": [
    "#Logical Operators\n",
    "exp1 = 2>1\n",
    "exp2 = 5<4\n",
    "\n",
    "print(\"exp1 and exp2 : \",exp1 and exp2)\n",
    "\n",
    "print(\"exp1 or exp2 : \",exp1 or exp2)\n",
    "\n",
    "print(\"Not exp1 : \",not(exp1))\n",
    "\n",
    "print(\"Not exp2 : \",not(exp2))"
   ]
  },
  {
   "cell_type": "code",
   "execution_count": 16,
   "metadata": {},
   "outputs": [],
   "source": [
    "# Identity Operators\n",
    "# is        Returns True if both variables are the same object\n",
    "# is not    Returns True if both variables are not the same object"
   ]
  },
  {
   "cell_type": "code",
   "execution_count": 17,
   "metadata": {},
   "outputs": [
    {
     "name": "stdout",
     "output_type": "stream",
     "text": [
      "if x is y :  True\n",
      "if x is not y:  False\n"
     ]
    }
   ],
   "source": [
    "#Identity Operators\n",
    "x=5\n",
    "y=5\n",
    "print(\"if x is y : \",x is y) \n",
    "\n",
    "print(\"if x is not y: \", x is not y)"
   ]
  },
  {
   "cell_type": "code",
   "execution_count": 18,
   "metadata": {},
   "outputs": [],
   "source": [
    "# Membership Operators\n",
    "# in          Returns True is a sequence with the specified value is present in the object\n",
    "# not in      Returns True if a sequence with the specified value is not present in the object"
   ]
  },
  {
   "cell_type": "code",
   "execution_count": 19,
   "metadata": {},
   "outputs": [
    {
     "name": "stdout",
     "output_type": "stream",
     "text": [
      "if banana is present in fruits:  True\n",
      "if mango is not present in fruits :  True\n"
     ]
    }
   ],
   "source": [
    "#Membership Operators\n",
    "fruits = [\"apple\",\"banana\",\"cherry\"]\n",
    "\n",
    "print(\"if banana is present in fruits: \",\"banana\" in fruits)\n",
    "\n",
    "print(\"if mango is not present in fruits : \",\"mango\"not in fruits)"
   ]
  },
  {
   "cell_type": "code",
   "execution_count": 20,
   "metadata": {},
   "outputs": [],
   "source": [
    "#Bitwise Operators\n",
    "# &       and\n",
    "# |       or\n",
    "# ^       xor\n",
    "# ~       not\n",
    "# <<      zero fill left shift\n",
    "# >>      signed right shift"
   ]
  },
  {
   "cell_type": "code",
   "execution_count": 21,
   "metadata": {},
   "outputs": [
    {
     "name": "stdout",
     "output_type": "stream",
     "text": [
      "a & b :  1\n",
      "a or b:  7\n",
      "a xor b:  6\n"
     ]
    }
   ],
   "source": [
    "#Bitwise Operators\n",
    "a =5\n",
    "b =3\n",
    "\n",
    "print(\"a & b : \",a&b)\n",
    "\n",
    "print(\"a or b: \",a|b)\n",
    "\n",
    "print(\"a xor b: \",a^b)\n"
   ]
  },
  {
   "cell_type": "code",
   "execution_count": 22,
   "metadata": {},
   "outputs": [
    {
     "name": "stdout",
     "output_type": "stream",
     "text": [
      "Volume of sphere of radius  6.9  is :  1375.3576800000003\n"
     ]
    }
   ],
   "source": [
    "#Calculation Volume of a sphere\n",
    "radius = float(input(\"Enter radius of sphere\"))\n",
    "\n",
    "volume = 4/3*3.14*(radius**3)\n",
    "\n",
    "print(\"Volume of sphere of radius \",radius,\" is : \",volume)"
   ]
  },
  {
   "cell_type": "code",
   "execution_count": 23,
   "metadata": {},
   "outputs": [],
   "source": [
    "# Operator Precedence\n",
    "# Highest -> lowest\n",
    "\n",
    "# () \n",
    "# **\n",
    "# /,//,%\n",
    "# *\n",
    "# +,-\n",
    "# >>,<<\n",
    "# &,|,^\n",
    "# ==,!=,>,<"
   ]
  },
  {
   "cell_type": "code",
   "execution_count": 24,
   "metadata": {},
   "outputs": [],
   "source": [
    "#type() function is used to know the datatype of a variable"
   ]
  },
  {
   "cell_type": "code",
   "execution_count": 26,
   "metadata": {},
   "outputs": [
    {
     "name": "stdout",
     "output_type": "stream",
     "text": [
      "Final int :  235 <class 'int'>\n"
     ]
    }
   ],
   "source": [
    "#Typecasting\n",
    "a =2\n",
    "b =3\n",
    "c =5\n",
    "\n",
    "a_str = str(a)\n",
    "b_str = str(b)\n",
    "c_str = str(c)\n",
    "\n",
    "final_string = a_str + b_str + c_str\n",
    "\n",
    "final_int = int(final_string) \n",
    "\n",
    "print(\"Final int : \",final_int,type(final_int))"
   ]
  },
  {
   "cell_type": "code",
   "execution_count": 28,
   "metadata": {},
   "outputs": [
    {
     "name": "stdout",
     "output_type": "stream",
     "text": [
      "Fahrenheit :  68.0\n"
     ]
    }
   ],
   "source": [
    "#write a program to convert temperature from celsius to faharenheit\n",
    "cel = float(input(\"Enter temperature Celsius\"))\n",
    "\n",
    "fah = cel * (9/5)+32\n",
    "\n",
    "print(\"Fahrenheit : \",fah)"
   ]
  }
 ],
 "metadata": {
  "kernelspec": {
   "display_name": "Python 3",
   "language": "python",
   "name": "python3"
  },
  "language_info": {
   "codemirror_mode": {
    "name": "ipython",
    "version": 3
   },
   "file_extension": ".py",
   "mimetype": "text/x-python",
   "name": "python",
   "nbconvert_exporter": "python",
   "pygments_lexer": "ipython3",
   "version": "3.12.4"
  }
 },
 "nbformat": 4,
 "nbformat_minor": 2
}
